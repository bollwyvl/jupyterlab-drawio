{
 "cells": [
  {
   "cell_type": "markdown",
   "id": "eligible-lexington",
   "metadata": {},
   "source": [
    "# Diagram Document\n",
    "\n",
    "Using a `.dio` file directly in the _Diagram Document_ is much simpler than the [Diagram Widget](./Diagram%20Widget.ipynb) or [Diagram Rich Display](./Diagram%20Rich%20Display.ipynb). \n",
    "\n",
    "You can download these from [diagrams.net](https://diagrams.net), or one of their many integrations. You might also be able to use these documents in [documentation](https://pypi.org/project/sphinxcontrib-drawio/)."
   ]
  },
  {
   "cell_type": "markdown",
   "id": "heard-adolescent",
   "metadata": {},
   "source": [
    "## Making a Diagram Document\n",
    "From the _JupyterLab Launcher_:\n",
    "- click _Diagram_"
   ]
  },
  {
   "cell_type": "markdown",
   "id": "collectible-breeding",
   "metadata": {},
   "source": [
    "## Opening a Diagram Document\n",
    "- Find a Diagram file in the JupyterLab _File Browser_ <kbd>Ctrl+Shift+F</kbd>\n",
    "- Double click it"
   ]
  },
  {
   "cell_type": "markdown",
   "id": "forced-scheduling",
   "metadata": {},
   "source": [
    "### Other Formats\n",
    "\n",
    "`drawio` XML can be embedded inside `png` and `svg` images and notebooks. If they have a compound suffix, like `.dio.png`, `.dio.ipynb`, the _Diagram Editor_ will be opened by default.\n",
    "- right click on the file in the _File Browser_\n",
    "- select _Open With_\n",
    "- select one of the _Diagram_ options"
   ]
  },
  {
   "cell_type": "markdown",
   "id": "respected-plymouth",
   "metadata": {},
   "source": [
    "## Configuration\n",
    "\n",
    "In the JupyterLab _Advanced Settings_ Panel <kbd>Ctrl+,</kbd>, the _Diagrams Documents_ section offers many, many options."
   ]
  }
 ],
 "metadata": {
  "kernelspec": {
   "display_name": "Python 3",
   "language": "python",
   "name": "python3"
  },
  "language_info": {
   "codemirror_mode": {
    "name": "ipython",
    "version": 3
   },
   "file_extension": ".py",
   "mimetype": "text/x-python",
   "name": "python",
   "nbconvert_exporter": "python",
   "pygments_lexer": "ipython3",
   "version": "3.6.13"
  }
 },
 "nbformat": 4,
 "nbformat_minor": 5
}
