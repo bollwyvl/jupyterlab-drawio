{
 "cells": [
  {
   "cell_type": "markdown",
   "metadata": {},
   "source": [
    "# ROADMAP"
   ]
  },
  {
   "cell_type": "markdown",
   "metadata": {},
   "source": [
    "| section      | description                                      |\n",
    "|------------------------------|--------------------------------------------------|\n",
    "| [UX &times; DX](#potential-roadmaps) | what might we do next to achive a UX goal? |\n",
    "| [UX](#user)      | what might a user expect from a future version?  |\n",
    "| [DX](#dev)        | what might a developr expect from a future version?  |"
   ]
  },
  {
   "cell_type": "markdown",
   "metadata": {},
   "source": [
    "## Potential Roadmaps"
   ]
  },
  {
   "cell_type": "markdown",
   "metadata": {},
   "source": [
    "| goal                                      | related                        |\n",
    "|-------------------------------------------|--------------------------------|\n",
    "  [install](#improve-installability) | [npm/pypi](#npm-pypi-releases) |\n",
    "  [export](#improve-export) | [drawio-export](#drawio-export) <br/> [pypeteer](#pypeteer) |\n",
    "  [collaborate](#improve-collaboration) | [jupyter-videochat](#jupyter-videochat) |\n",
    "  [compute](#improve-comptability) | [widgets](#jupyter-widgets) |\n",
    "  [produce](#improve-production) |  [widgets](#jupyter-widgets)<br>[graphviz2drawio](#graphviz2drawio) | "
   ]
  },
  {
   "cell_type": "markdown",
   "metadata": {},
   "source": [
    "## User"
   ]
  },
  {
   "cell_type": "markdown",
   "metadata": {},
   "source": [
    "### improve installability\n",
    "\n",
    "- Users should find it familiar to install the software."
   ]
  },
  {
   "cell_type": "markdown",
   "metadata": {},
   "source": [
    "### improve export\n",
    "\n",
    "- Users should be able to make print-ready archival artifacts."
   ]
  },
  {
   "cell_type": "markdown",
   "metadata": {},
   "source": [
    "### improve editability in exported documents"
   ]
  },
  {
   "cell_type": "markdown",
   "metadata": {},
   "source": [
    "### improve production\n",
    "\n",
    "- Users should find it predictable to create drawio as standalone outputs from kernels\n",
    "- Users should find links, gestures to work predictably"
   ]
  },
  {
   "cell_type": "markdown",
   "metadata": {},
   "source": [
    "### improve computability\n",
    "\n",
    "- Users should be able to use the drawio interactive state for exploring"
   ]
  },
  {
   "cell_type": "markdown",
   "metadata": {},
   "source": [
    "### improve collaboration\n",
    "\n",
    "- Users should find it convenient to work as part of a team.\n",
    "- Users should find it rewarding to share work at different times with their team."
   ]
  },
  {
   "cell_type": "markdown",
   "metadata": {},
   "source": [
    "## Dev"
   ]
  },
  {
   "cell_type": "markdown",
   "metadata": {},
   "source": [
    "### pdfjs\n",
    "\n",
    "Read, write drawio XML, ipynb, etc. in PDF filesystem with [pdf.js][]\n",
    "\n",
    "[pdf.js]: https://github.com/mozilla/pdf.js/\n"
   ]
  },
  {
   "cell_type": "markdown",
   "metadata": {},
   "source": [
    "### npm/pypi releases"
   ]
  },
  {
   "cell_type": "markdown",
   "metadata": {},
   "source": [
    "### rich media display for kernels"
   ]
  },
  {
   "cell_type": "markdown",
   "metadata": {},
   "source": [
    "### drawio-export\n",
    "- [ ] support the [drawio-export][] implementation?\n",
    "- [ ] develop a pure-python implementation?\n",
    "\n",
    "> Progress: prototype nodejs-based integration, **basically functional**, but\n",
    "  **hard to package**\n",
    "\n",
    "[drawio-export]: https://github.com/jgraph/draw-image-export2\n"
   ]
  },
  {
   "cell_type": "markdown",
   "metadata": {},
   "source": [
    "### [jupyter-widgets][]\n",
    "\n",
    "1. Build multi-drawio PDF export\n",
    "2. Build a direct XML-based drawio widget.\n",
    "3. Build a fine-grained evented drawio graph widget\n",
    "\n",
    "> 1. Progress: prototype wrapper with ipywidgets with [drawio-export](#drawio-export)\n",
    "> that makes \"stacks\" of drawio pages\n",
    "\n",
    "[jupyter-widgets]: https://github.com/ipython/ipywidgets"
   ]
  },
  {
   "cell_type": "markdown",
   "metadata": {},
   "source": [
    "### [jupyter-videochat][]\n",
    "\n",
    "- Allow collaboration on top of jits XMPP event bus\n",
    "\n",
    "[jupyter-videochat]: https://github.com/yuvipanda/jupyter-videochat"
   ]
  },
  {
   "cell_type": "markdown",
   "metadata": {},
   "source": [
    "### [graphviz2drawio][]\n",
    "\n",
    "- [ ] support graphviz2drawio implementation\n",
    "\n",
    "> Progress: \n",
    "\n",
    "[graphviz2drawio]: https://github.com/hbmartin/graphviz2drawio"
   ]
  },
  {
   "cell_type": "markdown",
   "metadata": {},
   "source": [
    "> ## TODO\n",
    ">\n",
    "> - parse the makrdown above\n",
    "> - generate drawio of potential roadmaps as drawio flows"
   ]
  }
 ],
 "metadata": {
  "@deathbeds/jupyterlab-drawio": {
   "xml": "<mxfile host=\"127.0.0.1\" modified=\"2020-08-07T04:56:41.915Z\" agent=\"5.0 (X11; Linux x86_64) AppleWebKit/537.36 (KHTML, like Gecko) Chrome/84.0.4147.105 Safari/537.36\" version=\"13.5.8\" etag=\"TGssr0N0KEeadpYYgG1N\"><diagram id=\"dk1pchHwk6rXfCu7l7wG\" name=\"Page-1\"><mxGraphModel dx=\"3102\" dy=\"1796\" grid=\"1\" gridSize=\"10\" guides=\"1\" tooltips=\"1\" connect=\"1\" arrows=\"1\" fold=\"1\" page=\"1\" pageScale=\"1\" pageWidth=\"1654\" pageHeight=\"1169\" math=\"0\" shadow=\"0\" extFonts=\"Noto Sans^https://fonts.googleapis.com/css?family=Noto+Sans|Fira Code^https://fonts.googleapis.com/css?family=Fira+Code\"><root><mxCell id=\"0\"/><mxCell id=\"1\" value=\"ROADMAP\" parent=\"0\"/><mxCell id=\"36\" value=\"FUTURE ROADMAPS\" style=\"text;html=1;strokeColor=none;fillColor=none;align=left;verticalAlign=middle;whiteSpace=wrap;rounded=0;shadow=0;sketch=1;fontFamily=Noto Sans;fontSize=72;fontStyle=1;fontColor=#FF9933;\" vertex=\"1\" parent=\"1\"><mxGeometry x=\"60\" y=\"80\" width=\"820\" height=\"20\" as=\"geometry\"/></mxCell><mxCell id=\"38\" value=\"deathbeds/jupyterlab-drawio\" style=\"text;html=1;strokeColor=none;fillColor=none;align=right;verticalAlign=middle;whiteSpace=wrap;rounded=0;shadow=0;sketch=1;fontFamily=Fira Code;fontSize=48;fontStyle=1;FType=g;\" vertex=\"1\" parent=\"1\"><mxGeometry x=\"410\" y=\"1057.5\" width=\"1060\" height=\"20\" as=\"geometry\"/></mxCell><mxCell id=\"73\" value=\"\" style=\"group;fontSize=24;fontFamily=Noto Sans;FType=g;sketch=0;\" vertex=\"1\" connectable=\"0\" parent=\"1\"><mxGeometry x=\"100\" y=\"120\" width=\"1056.8181818181818\" height=\"855\" as=\"geometry\"/></mxCell><UserObject label=\"UX\" treeRoot=\"1\" id=\"74\"><mxCell style=\"whiteSpace=wrap;html=1;align=center;collapsible=0;container=1;recursiveResize=0;fillColor=#b1ddf0;strokeColor=#10739e;fontSize=24;fontFamily=Noto Sans;FType=g;sketch=1;fontStyle=1\" vertex=\"1\" parent=\"73\"><mxGeometry x=\"386.81545454545454\" y=\"80\" width=\"188.18181818181816\" height=\"72\" as=\"geometry\"/></mxCell></UserObject><mxCell id=\"75\" value=\"\" style=\"edgeStyle=elbowEdgeStyle;elbow=vertical;startArrow=none;endArrow=none;rounded=0;fontSize=24;fontFamily=Noto Sans;FType=g;sketch=1;fontStyle=1\" edge=\"1\" parent=\"73\" source=\"74\" target=\"85\"><mxGeometry relative=\"1\" as=\"geometry\"><mxPoint x=\"527.9518181818182\" y=\"368\" as=\"sourcePoint\"/></mxGeometry></mxCell><mxCell id=\"76\" value=\"\" style=\"edgeStyle=elbowEdgeStyle;elbow=vertical;startArrow=none;endArrow=none;rounded=0;fontSize=24;fontFamily=Noto Sans;FType=g;sketch=1;fontStyle=1\" edge=\"1\" parent=\"73\" source=\"74\" target=\"82\"><mxGeometry relative=\"1\" as=\"geometry\"><mxPoint x=\"355.45181818181817\" y=\"152\" as=\"sourcePoint\"/><mxPoint x=\"637.7245454545454\" y=\"296\" as=\"targetPoint\"/></mxGeometry></mxCell><mxCell id=\"77\" value=\"\" style=\"edgeStyle=elbowEdgeStyle;elbow=vertical;startArrow=none;endArrow=none;rounded=0;fontSize=24;fontFamily=Noto Sans;FType=g;sketch=1;fontStyle=1\" edge=\"1\" parent=\"73\" source=\"74\" target=\"86\"><mxGeometry relative=\"1\" as=\"geometry\"><mxPoint x=\"527.9518181818182\" y=\"188\" as=\"sourcePoint\"/><mxPoint x=\"622.0427272727272\" y=\"332\" as=\"targetPoint\"/></mxGeometry></mxCell><mxCell id=\"78\" value=\"\" style=\"edgeStyle=elbowEdgeStyle;elbow=vertical;startArrow=none;endArrow=none;rounded=0;fontSize=24;fontFamily=Noto Sans;FType=g;sketch=1;fontStyle=1\" edge=\"1\" parent=\"73\" source=\"74\" target=\"79\"><mxGeometry relative=\"1\" as=\"geometry\"><mxPoint x=\"480.9063636363635\" y=\"152\" as=\"sourcePoint\"/><mxPoint x=\"480.9063636363635\" y=\"236\" as=\"targetPoint\"/></mxGeometry></mxCell><mxCell id=\"79\" value=\"compute\" style=\"whiteSpace=wrap;html=1;align=center;verticalAlign=middle;collapsible=0;container=1;recursiveResize=0;fillColor=#b1ddf0;strokeColor=#10739e;fontSize=24;fontFamily=Noto Sans;FType=g;sketch=1;fontStyle=1\" vertex=\"1\" parent=\"73\"><mxGeometry x=\"1067.2672727272727\" y=\"240\" width=\"156.8181818181818\" height=\"72\" as=\"geometry\"/></mxCell><mxCell id=\"80\" value=\"\" style=\"edgeStyle=elbowEdgeStyle;elbow=vertical;startArrow=none;endArrow=none;rounded=0;fontSize=24;fontFamily=Noto Sans;FType=g;sketch=1;fontStyle=1\" edge=\"1\" parent=\"73\" source=\"79\" target=\"81\"><mxGeometry relative=\"1\" as=\"geometry\"><mxPoint x=\"550.9063636363637\" y=\"118\" as=\"sourcePoint\"/><mxPoint x=\"737.8963636363637\" y=\"178.72000000000003\" as=\"targetPoint\"/></mxGeometry></mxCell><mxCell id=\"81\" value=\"jupyter-widgets\" style=\"whiteSpace=wrap;html=1;align=center;verticalAlign=middle;collapsible=0;container=1;recursiveResize=0;fillColor=#d5e8d4;strokeColor=#82b366;fontSize=24;fontFamily=Noto Sans;FType=g;sketch=1;fontStyle=1\" vertex=\"1\" parent=\"73\"><mxGeometry x=\"1067.27\" y=\"400\" width=\"156.8181818181818\" height=\"72\" as=\"geometry\"/></mxCell><mxCell id=\"82\" value=\"install\" style=\"whiteSpace=wrap;html=1;align=center;verticalAlign=middle;collapsible=0;container=1;recursiveResize=0;fillColor=#b1ddf0;strokeColor=#10739e;fontSize=24;fontFamily=Noto Sans;FType=g;sketch=1;fontStyle=1\" vertex=\"1\" parent=\"73\"><mxGeometry x=\"509.27\" y=\"240.00000000000003\" width=\"156.8181818181818\" height=\"72\" as=\"geometry\"/></mxCell><mxCell id=\"83\" value=\"\" style=\"edgeStyle=elbowEdgeStyle;elbow=vertical;startArrow=none;endArrow=none;rounded=0;fontSize=24;fontFamily=Noto Sans;FType=g;sketch=1;fontStyle=1\" edge=\"1\" parent=\"73\" source=\"82\" target=\"89\"><mxGeometry relative=\"1\" as=\"geometry\"><mxPoint x=\"404.0881818181816\" y=\"374\" as=\"sourcePoint\"/><mxPoint x=\"404.0881818181816\" y=\"434\" as=\"targetPoint\"/></mxGeometry></mxCell><mxCell id=\"84\" value=\"\" style=\"edgeStyle=elbowEdgeStyle;elbow=vertical;startArrow=none;endArrow=none;rounded=0;entryX=0.327;entryY=0.01;entryDx=0;entryDy=0;entryPerimeter=0;fontSize=24;fontFamily=Noto Sans;FType=g;sketch=1;fontStyle=1\" edge=\"1\" parent=\"73\" source=\"82\" target=\"91\"><mxGeometry relative=\"1\" as=\"geometry\"><mxPoint x=\"576.5881818181817\" y=\"374\" as=\"sourcePoint\"/><mxPoint x=\"592.27\" y=\"434\" as=\"targetPoint\"/></mxGeometry></mxCell><mxCell id=\"85\" value=\"archive\" style=\"whiteSpace=wrap;html=1;align=center;verticalAlign=middle;collapsible=0;container=1;recursiveResize=0;fillColor=#b1ddf0;strokeColor=#10739e;fontSize=24;fontFamily=Noto Sans;FType=g;sketch=1;fontStyle=1\" vertex=\"1\" parent=\"73\"><mxGeometry x=\"788.27\" y=\"240.00000000000003\" width=\"156.8181818181818\" height=\"72\" as=\"geometry\"/></mxCell><mxCell id=\"86\" value=\"collaborate\" style=\"whiteSpace=wrap;html=1;align=center;verticalAlign=middle;collapsible=0;container=1;recursiveResize=0;fillColor=#b1ddf0;strokeColor=#10739e;fontSize=24;fontFamily=Noto Sans;FType=g;sketch=1;fontStyle=1\" vertex=\"1\" parent=\"73\"><mxGeometry x=\"230\" y=\"240\" width=\"156.8181818181818\" height=\"72\" as=\"geometry\"/></mxCell><mxCell id=\"87\" value=\"\" style=\"edgeStyle=elbowEdgeStyle;elbow=vertical;startArrow=none;endArrow=none;rounded=0;fontSize=24;fontFamily=Noto Sans;FType=g;sketch=1;fontStyle=1\" edge=\"1\" parent=\"73\" source=\"86\" target=\"88\"><mxGeometry relative=\"1\" as=\"geometry\"><mxPoint x=\"529.5427272727272\" y=\"455.99999999999994\" as=\"sourcePoint\"/><mxPoint x=\"404.0881818181816\" y=\"396\" as=\"targetPoint\"/></mxGeometry></mxCell><mxCell id=\"88\" value=\"jupyter-videochat\" style=\"whiteSpace=wrap;html=1;align=center;verticalAlign=middle;collapsible=0;container=1;recursiveResize=0;fillColor=#d5e8d4;strokeColor=#82b366;fontSize=24;fontFamily=Noto Sans;FType=g;sketch=1;fontStyle=1\" vertex=\"1\" parent=\"73\"><mxGeometry x=\"230\" y=\"420\" width=\"156.8181818181818\" height=\"72\" as=\"geometry\"/></mxCell><mxCell id=\"89\" value=\"npm\" style=\"rounded=0;whiteSpace=wrap;html=1;fillColor=#d5e8d4;strokeColor=#82b366;fontSize=24;fontFamily=Noto Sans;FType=g;sketch=1;fontStyle=1\" vertex=\"1\" parent=\"73\"><mxGeometry x=\"427.26727272727265\" y=\"422\" width=\"188.18181818181816\" height=\"72\" as=\"geometry\"/></mxCell><mxCell id=\"90\" value=\"\" style=\"edgeStyle=elbowEdgeStyle;elbow=vertical;startArrow=none;endArrow=none;rounded=0;fontSize=24;fontFamily=Noto Sans;FType=g;sketch=1;fontStyle=1\" edge=\"1\" parent=\"73\" source=\"89\" target=\"93\"><mxGeometry relative=\"1\" as=\"geometry\"><mxPoint x=\"735.221818181818\" y=\"504\" as=\"sourcePoint\"/><mxPoint x=\"613.5763636363636\" y=\"664.72\" as=\"targetPoint\"/></mxGeometry></mxCell><mxCell id=\"91\" value=\"pip\" style=\"rounded=0;whiteSpace=wrap;html=1;fillColor=#d5e8d4;strokeColor=#82b366;fontSize=24;fontFamily=Noto Sans;FType=g;sketch=1;fontStyle=1\" vertex=\"1\" parent=\"73\"><mxGeometry x=\"641.5909090909091\" y=\"422\" width=\"188.18181818181816\" height=\"72\" as=\"geometry\"/></mxCell><mxCell id=\"92\" value=\"\" style=\"edgeStyle=elbowEdgeStyle;elbow=vertical;startArrow=none;endArrow=none;rounded=0;entryX=0.5;entryY=0;entryDx=0;entryDy=0;fontSize=24;fontFamily=Noto Sans;FType=g;sketch=1;fontStyle=1\" edge=\"1\" parent=\"73\" source=\"91\" target=\"93\"><mxGeometry relative=\"1\" as=\"geometry\"><mxPoint x=\"436.13636363636374\" y=\"308\" as=\"sourcePoint\"/><mxPoint x=\"623.1263636363637\" y=\"368.72\" as=\"targetPoint\"/></mxGeometry></mxCell><mxCell id=\"93\" value=\"conda\" style=\"rounded=0;whiteSpace=wrap;html=1;fillColor=#d5e8d4;strokeColor=#82b366;fontSize=24;fontFamily=Noto Sans;FType=g;sketch=1;fontStyle=1\" vertex=\"1\" parent=\"73\"><mxGeometry x=\"487.2709090909091\" y=\"600\" width=\"188.18181818181816\" height=\"72\" as=\"geometry\"/></mxCell><mxCell id=\"263\" value=\"\" style=\"dashed=0;outlineConnect=0;html=1;align=center;labelPosition=center;verticalLabelPosition=bottom;verticalAlign=top;shape=mxgraph.weblogos.github;shadow=0;sketch=0;fillColor=none;fontFamily=Noto Sans;fontSize=48;fontColor=#FF9933;\" vertex=\"1\" parent=\"1\"><mxGeometry x=\"1500\" y=\"1030\" width=\"75\" height=\"75\" as=\"geometry\"/></mxCell><mxCell id=\"33\" value=\"Document Notes\" style=\"\" parent=\"0\"/><mxCell id=\"34\" value=\"TODO: keep in sync with notebook markdown\" style=\"text;html=1;fillColor=#fff2cc;align=center;verticalAlign=middle;whiteSpace=wrap;rounded=0;fontSize=42;fontFamily=Noto Sans;sketch=1;shadow=0;strokeColor=#d6b656;rotation=10;\" vertex=\"1\" parent=\"33\"><mxGeometry x=\"1150\" y=\"700\" width=\"365\" height=\"320\" as=\"geometry\"/></mxCell></root></mxGraphModel></diagram></mxfile>"
  },
  "kernelspec": {
   "display_name": "Python 3",
   "language": "python",
   "name": "python3"
  },
  "language_info": {
   "codemirror_mode": {
    "name": "ipython",
    "version": 3
   },
   "file_extension": ".py",
   "mimetype": "text/x-python",
   "name": "python",
   "nbconvert_exporter": "python",
   "pygments_lexer": "ipython3",
   "version": "3.8.5"
  },
  "toc-autonumbering": true,
  "toc-showcode": true,
  "toc-showmarkdowntxt": false
 },
 "nbformat": 4,
 "nbformat_minor": 4
}
