{
 "cells": [
  {
   "cell_type": "markdown",
   "id": "05473d59-5b2e-4511-a2ce-428930f2af24",
   "metadata": {},
   "source": [
    "# Designing a JupyterLab Extension with IPyDrawio"
   ]
  },
  {
   "cell_type": "markdown",
   "id": "f1da2ab6-2fd9-4e63-af31-c792d2f712eb",
   "metadata": {},
   "source": [
    "IPyDrawio can support the [JupyterLab extension development process](https://jupyterlab.readthedocs.io/en/stable/extension/extension_dev.html). While a single author can build new features _without_ any kinds of pictures, individuals and especially team- and community-driven processes can be enhanced by different visual artifacts that _live next to the code_."
   ]
  },
  {
   "cell_type": "markdown",
   "id": "150c79c8-4349-4fde-bc3c-d7dfa1c74d1a",
   "metadata": {},
   "source": [
    "```{hint}\n",
    "Using a editable, but widely-viewable format like `.dio.png` or `.dio.svg` means these assets can be used \"at-rest,\" though without advanced features like multiple pages and interactivity, and works well with the visual diff tools on e.g. GitHub.\n",
    "```"
   ]
  },
  {
   "cell_type": "markdown",
   "id": "8c9e0cd8-e623-4c15-9ca9-43f2f35bca8b",
   "metadata": {},
   "source": [
    "## Gathering Ideas\n",
    "\n",
    "As you start thinking about your extension, who will use it, and how you might build it, IPyDrawio can help you make a number of structured problem-solving artifacts effective at capturing, and then leveraging, visual concepts to capture your goals and trade-offs."
   ]
  },
  {
   "cell_type": "markdown",
   "id": "c1e0fe74-ddc5-4892-bf73-827bba9eeb94",
   "metadata": {},
   "source": [
    "### Mind Maps\n",
    "[Mind Maps](https://en.wikipedia.org/wiki/Mind_map) are an effective way to capture \"stream of consciousness\"."
   ]
  },
  {
   "cell_type": "markdown",
   "id": "605ed2a3-1a8b-416f-82b1-d1493c986cfe",
   "metadata": {},
   "source": [
    "```{hint}\n",
    "Search for `mind` in the _Custom Diagram..._ panel. This task also lends itself to the `sketch` theme, which trades UI simplicity for hiding some of the more advanced features.\n",
    "```"
   ]
  },
  {
   "cell_type": "markdown",
   "id": "f966cd99-0a02-4f40-b560-73d4697f08fc",
   "metadata": {},
   "source": [
    "### Seven Management and Planning Tools\n",
    "The [Seven Management and Planning Tools](https://en.wikipedia.org/wiki/Seven_management_and_planning_tools) are suitable for large and small projects.\n",
    "\n",
    "```{note}\n",
    "While there are no \"prebuilt\" templates for these diagrams, many of the \"basic\" and and \"tree\" shape palettes have ready-made shapes with pre-configured connectors that preserve intent, and work well with the auto-layout tools.\n",
    "```"
   ]
  },
  {
   "cell_type": "markdown",
   "id": "14fe2c2b-de91-4aee-92d1-179d9754468b",
   "metadata": {},
   "source": [
    "### Mermaid Diagrams\n",
    "\n",
    "The [mermaid.js](https://mermaid-js.github.io/mermaid) plugin (enabled by default) provides a way to write pithy text descriptions, including:\n",
    "\n",
    "> _Flowchart, Sequence diagram, Class Diagram, State Diagram, Entity Relationship Diagram, User Journey, Gantt, Pie Chart, Requirement Diagram_"
   ]
  },
  {
   "cell_type": "markdown",
   "id": "e7db97c9-fe37-49f2-b08a-c24b9bdff6b7",
   "metadata": {},
   "source": [
    "```{hint}\n",
    "From the drawio menu, select _Insert_ ▸ _Advanced_ ▸ _Mermaid_. Paste some mermaid there. The resulting object will _not_ be editable with shape-editing tools, but you _will_ be able to adjust the mermaid syntax later by clicking on it, which can be worth _much_ more over time. \n",
    "```"
   ]
  },
  {
   "cell_type": "markdown",
   "id": "39f30c2f-f937-4c67-98a1-1cc4670f2709",
   "metadata": {},
   "source": [
    "## Visual Design"
   ]
  },
  {
   "cell_type": "markdown",
   "id": "07cd8af2-d479-4275-8c2a-db467af9a9d0",
   "metadata": {},
   "source": [
    "### Wireframing\n",
    "\n",
    "Low-fidelity wireframes, which often include _lorem ipsum_ filler text, etc. provide a quick way.\n",
    "\n",
    "```{hint}\n",
    "Use primarily _basic shapes_: a box with a word in it says \"button\" just as well as something with gradients and carefully-kerned fonts.\n",
    "```"
   ]
  },
  {
   "cell_type": "markdown",
   "id": "da515eab-71a5-488f-b40a-c361ea26ae71",
   "metadata": {},
   "source": [
    "```{note}\n",
    "For single-page/stage views, the `sketch` theme can work well, while `min` provides a nice balance between unobtrusiveness and power.\n",
    "```"
   ]
  },
  {
   "cell_type": "markdown",
   "id": "a9cede37-b50d-4c49-805f-e904db806715",
   "metadata": {},
   "source": [
    "### Comps\n",
    "\n",
    "High-fidelity mockups, or \"comps,\" eventually provide the language used between the designer role and the developer role... even if they are being done by the same person."
   ]
  },
  {
   "cell_type": "markdown",
   "id": "2ab27c36-9864-4348-b649-d43970a553d5",
   "metadata": {},
   "source": [
    "```{hint}\n",
    "Search for `jupyter` in the _Custom Diagram..._ panel. The _JupyterLab Mockups_ contains recreations of a number of common views, such as the _Launcher_ and _Notebook_, which can be recombined, remixed, or expanded to suggest new features. \n",
    "```"
   ]
  },
  {
   "cell_type": "markdown",
   "id": "0ab07900-ff38-4502-839f-d2e31efc6129",
   "metadata": {},
   "source": [
    "```{note}\n",
    "One of the \"full\" themes (e.g. `kennedy`, `dark` or `atlas`) is recommended, as using multiple pages, cross-page links, and auto-layouts are more readily discoverable than with `min` or `sketch`.\n",
    "```"
   ]
  },
  {
   "cell_type": "markdown",
   "id": "98e88667-f9ef-4ae3-8746-348a20b86598",
   "metadata": {},
   "source": [
    "## Testing\n",
    "\n",
    "While not a _particularly_ reach semantic model, native drawio documents and SVG are still well-behaved XML, and far less opaque than \"professional\" UML/SysML tools.\n",
    "\n",
    "\n",
    "```{note}\n",
    "For example, if you are building an extension composed of many classes, you can use either simple string comparison, regular expressions, or XPath queries (provided by both [browser JS](https://developer.mozilla.org/en-US/docs/Web/XPath) and [python](https://docs.python.org/3/library/xml.etree.elementtree.html#elementtree-xpath)) to verify all classes are included in a key diagram.\n",
    "```"
   ]
  },
  {
   "cell_type": "markdown",
   "id": "0178416c-7f47-4ae2-81bf-850e14c8d22a",
   "metadata": {},
   "source": [
    "## Documentation\n",
    "\n",
    "Once these diagrams exist, they can be used directly within docs sites. While alternatives exist for working directly with `.drawio` files, such as [sphinxcontrib-drawio](https://pypi.org/project/sphinxcontrib-drawio), again keeping the files in standards-compliant formats such as `.png` and `.svg` are more likely to stay editable and viewable over time."
   ]
  },
  {
   "cell_type": "markdown",
   "id": "0165bbc2-700b-47c8-b0b6-fbc9789f2cb5",
   "metadata": {},
   "source": [
    "```{hint}\n",
    "[myst-nb](https://github.com/executablebooks/MyST-NB) is highly recommended (and used on this documentation site) for embedding various kinds of images without a lot of the hassle of some of the finer points of `.rst` editing.\n",
    "```"
   ]
  }
 ],
 "metadata": {
  "kernelspec": {
   "display_name": "Python 3",
   "language": "python",
   "name": "python3"
  },
  "language_info": {
   "codemirror_mode": {
    "name": "ipython",
    "version": 3
   },
   "file_extension": ".py",
   "mimetype": "text/x-python",
   "name": "python",
   "nbconvert_exporter": "python",
   "pygments_lexer": "ipython3",
   "version": "3.9.4"
  }
 },
 "nbformat": 4,
 "nbformat_minor": 5
}
