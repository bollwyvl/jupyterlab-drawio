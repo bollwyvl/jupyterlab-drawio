{
 "cells": [
  {
   "cell_type": "markdown",
   "metadata": {},
   "source": [
    "# ROADMAP"
   ]
  },
  {
   "cell_type": "markdown",
   "metadata": {},
   "source": [
    "![a visual roadmap for ipydrawio][roadmap]\n",
    "\n",
    "[roadmap]: ROADMAP.dio.svg"
   ]
  },
  {
   "cell_type": "markdown",
   "metadata": {},
   "source": [
    "## Easy to Install\n",
    "\n",
    "> Users should find it familiar to install `ipydrawio` and `ipydrawio-export`\n",
    "\n",
    "- the out-of-band `puppeteer` provisioning step should be more reliable\n",
    "    - make a separate `conda-forge` package of `puppeteer`/`drawio-export` upstream?\n",
    "    - use [pyppeteer](https://github.com/pyppeteer/pyppeteer)?"
   ]
  },
  {
   "cell_type": "markdown",
   "metadata": {},
   "source": [
    "## Easy to Start\n",
    "\n",
    "> Users should find it easy to start using `ipydrawio`"
   ]
  },
  {
   "cell_type": "markdown",
   "metadata": {},
   "source": [
    "### Tour\n",
    "\n",
    "- Create [jupyterlab-tour](https://github.com/jupyterlab-contrib/jupyterlab-tour)s for `ipydrawio` and `ipydrawio-export`\n",
    "- Recommend installing `jupyterlab-tour` in documentation"
   ]
  },
  {
   "cell_type": "markdown",
   "metadata": {},
   "source": [
    "### Jupyter Shapes\n",
    "- create an installable library of Jupyter-related shapes\n",
    "    - JupyterLab UI components\n",
    "    - JupyterHub UI components\n",
    "    - Jupyter workflows\n",
    "    - Jupyter architecture icons"
   ]
  },
  {
   "cell_type": "markdown",
   "metadata": {},
   "source": [
    "## Easy to Compute\n",
    "\n",
    "> Users should be able to use diagrams as part of an interactive, literate, computational process."
   ]
  },
  {
   "cell_type": "markdown",
   "metadata": {},
   "source": [
    "### graphviz2drawio\n",
    "\n",
    "- offer an optional [graphviz2drawio](https://github.com/hbmartin/graphviz2drawio) integration"
   ]
  },
  {
   "cell_type": "markdown",
   "metadata": {},
   "source": [
    "### Rich media display for live kernels\n",
    "\n",
    "- enable live updating of drawio shapes from running notebook documents"
   ]
  },
  {
   "cell_type": "markdown",
   "metadata": {},
   "source": [
    "### Editable PDF\n",
    "\n",
    "- enabled _Editable PDF_\n",
    "    - use [pdf.js][]\n",
    "\n",
    "[pdf.js]: https://github.com/mozilla/pdf.js/"
   ]
  },
  {
   "cell_type": "markdown",
   "metadata": {},
   "source": [
    "## Easy to Collaborate\n",
    "\n",
    "- Users should find it easy to work with diagrams as part of a team."
   ]
  },
  {
   "cell_type": "markdown",
   "metadata": {},
   "source": [
    "### jupyter-videochat integration\n",
    "\n",
    "- Use [jupyter-videochat][] JSON bus to collaborate with other team members\n",
    "\n",
    "[jupyter-videochat]: https://github.com/yuvipanda/jupyter-videochat"
   ]
  }
 ],
 "metadata": {
  "kernelspec": {
   "display_name": "Python 3",
   "language": "python",
   "name": "python3"
  },
  "language_info": {
   "codemirror_mode": {
    "name": "ipython",
    "version": 3
   },
   "file_extension": ".py",
   "mimetype": "text/x-python",
   "name": "python",
   "nbconvert_exporter": "python",
   "pygments_lexer": "ipython3",
   "version": "3.9.2"
  },
  "toc-autonumbering": true,
  "toc-showcode": true,
  "toc-showmarkdowntxt": false
 },
 "nbformat": 4,
 "nbformat_minor": 4
}
