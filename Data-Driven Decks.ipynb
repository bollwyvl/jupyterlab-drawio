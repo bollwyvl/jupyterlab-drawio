{
 "cells": [
  {
   "cell_type": "markdown",
   "metadata": {},
   "source": [
    "# Data-Driven Decks\n",
    "\n"
   ]
  },
  {
   "cell_type": "markdown",
   "metadata": {},
   "source": [
    "## Inkscape Driver\n",
    "\n",
    "> TBD"
   ]
  },
  {
   "cell_type": "markdown",
   "metadata": {},
   "source": [
    "## Drawio Driver"
   ]
  },
  {
   "cell_type": "markdown",
   "metadata": {},
   "source": [
    "## Before we begin\n",
    "\n",
    "> ## This is **NOT READY** for prime-time\n",
    "> Start the **demo** export server. It will try to install its dependencies with `jlpm`, and requires `nodejs`.\n",
    "> ```bash\n",
    "> !python scripts/drawio_export_demo.py\n",
    "> ```"
   ]
  },
  {
   "cell_type": "code",
   "execution_count": 16,
   "metadata": {},
   "outputs": [],
   "source": [
    "import base64, html, urllib.parse, pathlib as P, tempfile, asyncio, IPython\n",
    "import IPython.display as D, networkx as nx, jinja2, babel.support as B, pandas as pd, PyPDF2, traitlets as T, ipywidgets as W, tornado.ioloop\n",
    "from nbconvert.filters.markdown_mistune import markdown2html_mistune\n",
    "import httpx"
   ]
  },
  {
   "cell_type": "markdown",
   "metadata": {},
   "source": [
    "## Slides"
   ]
  },
  {
   "cell_type": "code",
   "execution_count": 2,
   "metadata": {},
   "outputs": [],
   "source": [
    "class Slides(W.HTML):\n",
    "    \"\"\" some number of slides, as PDF\n",
    "    \"\"\"\n",
    "    pdf = T.Unicode()\n",
    "    \n",
    "    def __init__(self, *args, **kwargs):\n",
    "        if not kwargs.get(\"layout\"):\n",
    "            kwargs[\"layout\"] = dict(\n",
    "                display = \"flex\",\n",
    "                flex_flow = \"column wrap\",\n",
    "                flex = \"1\",\n",
    "                height = \"100%\",\n",
    "            )\n",
    "        super().__init__(*args, **kwargs)\n",
    "    \n",
    "    @T.observe(\"pdf\")\n",
    "    def _on_pdf(self, change):\n",
    "        self.value = f\"\"\"\n",
    "            <iframe \n",
    "                src=\"data:application/pdf;base64,{change.new}\" \n",
    "                style=\"border: 0; min-width: 400px; min-height: 400px; width: 100%; height: 100%;\">\n",
    "            </iframe>\n",
    "        \"\"\""
   ]
  },
  {
   "cell_type": "markdown",
   "metadata": {},
   "source": [
    "### DrawioSlides"
   ]
  },
  {
   "cell_type": "code",
   "execution_count": 3,
   "metadata": {},
   "outputs": [],
   "source": [
    "class DrawioSlides(Slides):\n",
    "    \"\"\" Slides built with drawio-export from drawio XML\n",
    "    \"\"\"\n",
    "    xml = T.Unicode()\n",
    "    params = T.Dict()\n",
    "    url = T.Unicode(default_value=\"http://localhost:8000\")\n",
    "    \n",
    "    CORE_PARAMS = dict(\n",
    "        format=\"pdf\",\n",
    "        base64=\"1\"\n",
    "    )\n",
    "    \n",
    "    async def update_pdf(self):\n",
    "        # this really needs to be a queue\n",
    "        async with httpx.AsyncClient() as client:\n",
    "            xml = self.transform(self.xml)\n",
    "            r = await client.post(\n",
    "                self.url, \n",
    "                timeout=None,\n",
    "                data=dict(\n",
    "                    xml=xml, \n",
    "                    **self.params, \n",
    "                    **self.CORE_PARAMS\n",
    "                ))\n",
    "            self.pdf = r.text\n",
    "    \n",
    "    def transform(self, xml):\n",
    "        return xml\n",
    "\n",
    "    @T.observe(\"xml\")\n",
    "    def _on_xml(self, change=None):\n",
    "        tornado.ioloop.IOLoop.current().add_callback(self.update_pdf)"
   ]
  },
  {
   "cell_type": "code",
   "execution_count": 4,
   "metadata": {},
   "outputs": [
    {
     "data": {
      "application/vnd.jupyter.widget-view+json": {
       "model_id": "75fdb90cda514f86ae15cf996a2da5e6",
       "version_major": 2,
       "version_minor": 0
      },
      "text/plain": [
       "DrawioSlides(value='', layout=Layout(display='flex', flex='1', flex_flow='column wrap', height='100%'))"
      ]
     },
     "metadata": {},
     "output_type": "display_data"
    }
   ],
   "source": [
    "HOW_IT_WORKS = P.Path(\"testfiles/How it works.dio\")\n",
    "how_it_works = DrawioSlides(xml=HOW_IT_WORKS.read_text())\n",
    "how_it_works"
   ]
  },
  {
   "cell_type": "markdown",
   "metadata": {},
   "source": [
    "#### TemplatedDrawioSlides"
   ]
  },
  {
   "cell_type": "code",
   "execution_count": 5,
   "metadata": {},
   "outputs": [],
   "source": [
    "class TemplatedDrawioSlides(DrawioSlides):\n",
    "    context = T.Dict()\n",
    "    \n",
    "    AMP = \"&\"\n",
    "    _AMP_ = \"_____AMP_____\"\n",
    "\n",
    "    def clean(self, txt):\n",
    "        return txt.replace(self.AMP, self._AMP_)\n",
    "\n",
    "    def smudge(self, txt):\n",
    "        return txt.replace(self._AMP_, self.AMP)\n",
    "    \n",
    "    def transform(self, xml):\n",
    "        env = jinja2.Environment(\n",
    "          extensions=['jinja2.ext.i18n', 'jinja2.ext.autoescape'],\n",
    "          autoescape=jinja2.select_autoescape(['html', 'xml'])\n",
    "        )\n",
    "\n",
    "        return self.smudge(env.from_string(self.clean(xml)).render(**{\n",
    "            key: self.markdown(value)\n",
    "            for key, value in (self.context or {}).items()\n",
    "        }))\n",
    "    \n",
    "    @T.observe(\"context\")\n",
    "    def _on_context(self, change):\n",
    "        self._on_xml()\n",
    "    \n",
    "    def markdown(self, md):\n",
    "        return markdown2html_mistune(md).replace(self.AMP, self._AMP_)"
   ]
  },
  {
   "cell_type": "code",
   "execution_count": 6,
   "metadata": {},
   "outputs": [
    {
     "data": {
      "application/vnd.jupyter.widget-view+json": {
       "model_id": "2564cb8f17dd447883ff52ca9b72ff78",
       "version_major": 2,
       "version_minor": 0
      },
      "text/plain": [
       "TemplatedDrawioSlides(value='', layout=Layout(display='flex', flex='1', flex_flow='column wrap', height='100%'…"
      ]
     },
     "metadata": {},
     "output_type": "display_data"
    }
   ],
   "source": [
    "TEMPLATE = P.Path(\"testfiles/template deck.dio\") \n",
    "title = TemplatedDrawioSlides(xml=TEMPLATE.read_text())\n",
    "title"
   ]
  },
  {
   "cell_type": "code",
   "execution_count": 7,
   "metadata": {},
   "outputs": [],
   "source": [
    "title.context = {\"title\": \"This is the  _TITLE_\"}"
   ]
  },
  {
   "cell_type": "code",
   "execution_count": 24,
   "metadata": {},
   "outputs": [],
   "source": [
    "ideas = []\n",
    "for i in range(4):\n",
    "    await asyncio.sleep(2)\n",
    "    ideas += [\n",
    "        TemplatedDrawioSlides(xml=TEMPLATE.read_text(), context=dict(\n",
    "            title=f\"Idea {i + 1}\",\n",
    "            abstract=f\"This is idea {i + 1}\",\n",
    "            hero=f\"# {i + 1}\"\n",
    "        ))\n",
    "    ]\n"
   ]
  },
  {
   "cell_type": "markdown",
   "metadata": {},
   "source": [
    "## Deck"
   ]
  },
  {
   "cell_type": "markdown",
   "metadata": {},
   "source": [
    "### Deck MK1 Prototype\n",
    "\n",
    "The simplest deck prototype is just a box."
   ]
  },
  {
   "cell_type": "code",
   "execution_count": 25,
   "metadata": {},
   "outputs": [],
   "source": [
    "deck = W.HBox([title, how_it_works, *ideas], \n",
    "              layout=dict(display=\"flex\", flex_flow=\"row wrap\"))\n",
    "# deck"
   ]
  },
  {
   "cell_type": "markdown",
   "metadata": {},
   "source": [
    "### Deck MK2 Prototype\n",
    "\n",
    "This builds a composite deck."
   ]
  },
  {
   "cell_type": "code",
   "execution_count": 30,
   "metadata": {},
   "outputs": [],
   "source": [
    "class Deck(W.HBox):\n",
    "    composite = T.Unicode()\n",
    "    preview = T.Instance(Slides)\n",
    "    \n",
    "    def __init__(self, *args, **kwargs):\n",
    "        if \"layout\" not in kwargs:\n",
    "            kwargs[\"layout\"] = dict(display=\"flex\", flex_flow=\"row wrap\")\n",
    "        super().__init__(*args, **kwargs)\n",
    "    \n",
    "    @T.default(\"preview\")\n",
    "    def _default_preview(self):\n",
    "        slides = Slides()\n",
    "        T.dlink((self, \"composite\"), (slides, \"pdf\"))\n",
    "        self.update_composite()\n",
    "        return slides\n",
    "    \n",
    "    def update_composite(self):\n",
    "        with tempfile.TemporaryDirectory() as td:\n",
    "            tdp = P.Path(td)\n",
    "            merger = PyPDF2.PdfFileMerger()\n",
    "            for i, child in enumerate(self.children):\n",
    "                next_pdf = (tdp / f\"doc-{i}.pdf\")\n",
    "                wrote = next_pdf.write_bytes(base64.b64decode(child.pdf.encode(\"utf-8\")))\n",
    "                if wrote:\n",
    "                    merger.append(PyPDF2.PdfFileReader(str(next_pdf)))\n",
    "            output_pdf = tdp / \"output.pdf\"\n",
    "            merger.write(str(output_pdf))\n",
    "            self.composite = base64.b64encode(output_pdf.read_bytes()).decode(\"utf-8\")"
   ]
  },
  {
   "cell_type": "code",
   "execution_count": 31,
   "metadata": {},
   "outputs": [],
   "source": [
    "new_deck = Deck(deck.children)"
   ]
  },
  {
   "cell_type": "code",
   "execution_count": 32,
   "metadata": {},
   "outputs": [
    {
     "data": {
      "application/vnd.jupyter.widget-view+json": {
       "model_id": "bc694486e5114d4ca9a98411e25ef9b4",
       "version_major": 2,
       "version_minor": 0
      },
      "text/plain": [
       "Slides(value='\\n            <iframe \\n                src=\"data:application/pdf;base64,JVBERi0xLjMKMSAwIG9iago…"
      ]
     },
     "metadata": {},
     "output_type": "display_data"
    }
   ],
   "source": [
    "new_deck.preview"
   ]
  },
  {
   "cell_type": "code",
   "execution_count": 29,
   "metadata": {},
   "outputs": [],
   "source": [
    "new_deck.update_composite()"
   ]
  },
  {
   "cell_type": "code",
   "execution_count": 14,
   "metadata": {},
   "outputs": [
    {
     "data": {
      "application/vnd.jupyter.widget-view+json": {
       "model_id": "8d07ccf1a47746cb8d9cbd44ce87acef",
       "version_major": 2,
       "version_minor": 0
      },
      "text/plain": [
       "Deck(children=(TemplatedDrawioSlides(value='\\n            <iframe \\n                src=\"data:application/pdf;…"
      ]
     },
     "metadata": {},
     "output_type": "display_data"
    }
   ],
   "source": [
    "new_deck"
   ]
  },
  {
   "cell_type": "code",
   "execution_count": null,
   "metadata": {},
   "outputs": [],
   "source": []
  }
 ],
 "metadata": {
  "kernelspec": {
   "display_name": "Python 3",
   "language": "python",
   "name": "python3"
  },
  "language_info": {
   "codemirror_mode": {
    "name": "ipython",
    "version": 3
   },
   "file_extension": ".py",
   "mimetype": "text/x-python",
   "name": "python",
   "nbconvert_exporter": "python",
   "pygments_lexer": "ipython3",
   "version": "3.8.3"
  },
  "toc-autonumbering": true
 },
 "nbformat": 4,
 "nbformat_minor": 4
}
