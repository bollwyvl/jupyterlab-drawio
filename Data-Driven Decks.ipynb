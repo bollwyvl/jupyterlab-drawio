{
 "cells": [
  {
   "cell_type": "markdown",
   "metadata": {},
   "source": [
    "# Data-Driven Decks\n",
    "\n",
    "Done properly, PDF will. Let's explore interactively building PDFs. "
   ]
  },
  {
   "cell_type": "markdown",
   "metadata": {},
   "source": [
    "## Before we begin\n",
    "\n",
    "> ## This is **NOT READY** for prime-time\n",
    "> Start the **demo** export server. It will try to install its dependencies with `jlpm`, and requires `nodejs`.\n",
    "> ```bash\n",
    "> !python scripts/drawio_export_demo.py\n",
    "> ```"
   ]
  },
  {
   "cell_type": "code",
   "execution_count": null,
   "metadata": {},
   "outputs": [],
   "source": [
    "import base64, html, urllib.parse, pathlib as P, tempfile, requests, IPython.display as D, networkx as nx, jinja2, babel.support as B, pandas as pd, PyPDF2, traitlets as T, ipywidgets as W, tornado.ioloop\n",
    "from nbconvert.filters.markdown_mistune import markdown2html_mistune\n",
    "from dataclasses import dataclass\n",
    "import httpx"
   ]
  },
  {
   "cell_type": "code",
   "execution_count": null,
   "metadata": {},
   "outputs": [],
   "source": [
    "class DrawioSlides(W.HTML):\n",
    "    \"\"\" some number of slides, as PDF\n",
    "    \"\"\"\n",
    "    xml = T.Unicode()\n",
    "    pdf = T.Unicode()\n",
    "    params = T.Dict()\n",
    "    url = T.Unicode(default_value=\"http://localhost:8000\")\n",
    "    \n",
    "    CORE_PARAMS = dict(\n",
    "        format=\"pdf\",\n",
    "        base64=\"1\"\n",
    "    )\n",
    "    \n",
    "    async def update_pdf(self):\n",
    "        async with httpx.AsyncClient() as client:\n",
    "            xml = self.transform(self.xml)\n",
    "            r = await client.post(\n",
    "                self.url, \n",
    "                timeout=None,\n",
    "                data=dict(\n",
    "                    xml=xml, \n",
    "                    **self.params, \n",
    "                    **self.CORE_PARAMS\n",
    "                ))\n",
    "            self.pdf = r.text\n",
    "    \n",
    "    def transform(self, xml):\n",
    "        return xml\n",
    "\n",
    "    @T.observe(\"xml\")\n",
    "    def _on_xml(self, change=None):\n",
    "        tornado.ioloop.IOLoop.current().add_callback(self.update_pdf)\n",
    "    \n",
    "    @T.observe(\"pdf\")\n",
    "    def _on_pdf(self, change=None):\n",
    "        self.value = f\"\"\"\n",
    "            <iframe src=\"data:application/pdf;base64,{self.pdf}\" width=\"100%\" height=\"600px\" style=\"height: 100%\"></iframe>\n",
    "        \"\"\""
   ]
  },
  {
   "cell_type": "code",
   "execution_count": null,
   "metadata": {},
   "outputs": [],
   "source": [
    "slides = DrawioSlides(xml=P.Path(\"testfiles/template deck.dio\").read_text())\n",
    "slides"
   ]
  },
  {
   "cell_type": "code",
   "execution_count": null,
   "metadata": {},
   "outputs": [],
   "source": [
    "class TemplatedDrawioSlides(DrawioSlides):\n",
    "    context = T.Dict()\n",
    "    \n",
    "    AMP = \"&\"\n",
    "    _AMP_ = \"_____AMP_____\"\n",
    "\n",
    "    def clean(self, txt):\n",
    "        return txt.replace(self.AMP, self._AMP_)\n",
    "\n",
    "    def smudge(self, txt):\n",
    "        return txt.replace(self._AMP_, self.AMP)\n",
    "    \n",
    "    def transform(self, xml):\n",
    "        env = jinja2.Environment(\n",
    "          extensions=['jinja2.ext.i18n', 'jinja2.ext.autoescape'],\n",
    "          autoescape=jinja2.select_autoescape(['html', 'xml'])\n",
    "        )\n",
    "\n",
    "        return self.smudge(env.from_string(self.clean(xml)).render(**{\n",
    "            key: self.markdown(value)\n",
    "            for key, value in (self.context or {}).items()\n",
    "        }))\n",
    "    \n",
    "    @T.observe(\"context\")\n",
    "    def _on_context(self, change):\n",
    "        self._on_xml()\n",
    "    \n",
    "    def markdown(self, md):\n",
    "        return markdown2html_mistune(md).replace(self.AMP, self._AMP_)"
   ]
  },
  {
   "cell_type": "code",
   "execution_count": null,
   "metadata": {},
   "outputs": [],
   "source": [
    "slides = TemplatedDrawioSlides(\n",
    "    xml=P.Path(\"testfiles/template deck.dio\").read_text()\n",
    ")\n",
    "slides"
   ]
  },
  {
   "cell_type": "code",
   "execution_count": null,
   "metadata": {},
   "outputs": [],
   "source": [
    "slides.context = {\"title\": \"This is the _TITLE_\"}"
   ]
  }
 ],
 "metadata": {
  "kernelspec": {
   "display_name": "Python 3",
   "language": "python",
   "name": "python3"
  },
  "language_info": {
   "codemirror_mode": {
    "name": "ipython",
    "version": 3
   },
   "file_extension": ".py",
   "mimetype": "text/x-python",
   "name": "python",
   "nbconvert_exporter": "python",
   "pygments_lexer": "ipython3",
   "version": "3.8.3"
  }
 },
 "nbformat": 4,
 "nbformat_minor": 4
}
