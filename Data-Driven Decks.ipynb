{
 "cells": [
  {
   "cell_type": "markdown",
   "metadata": {},
   "source": [
    "# Data-Driven Decks\n",
    "\n"
   ]
  },
  {
   "cell_type": "markdown",
   "metadata": {},
   "source": [
    "## Inkscape Driver\n",
    "\n",
    "> TBD"
   ]
  },
  {
   "cell_type": "markdown",
   "metadata": {},
   "source": [
    "## Drawio Driver"
   ]
  },
  {
   "cell_type": "code",
   "execution_count": null,
   "metadata": {},
   "outputs": [],
   "source": [
    "import base64, html, urllib.parse, pathlib as P, tempfile, asyncio, IPython\n",
    "import IPython.display as D, networkx as nx, jinja2, babel.support as B, pandas as pd\n",
    "import PyPDF2, traitlets as T, ipywidgets as W, tornado.ioloop, lxml.etree as E\n",
    "from nbconvert.filters.markdown_mistune import markdown2html_mistune\n",
    "from tornado.concurrent import run_on_executor\n",
    "from concurrent.futures import ThreadPoolExecutor\n",
    "import requests, requests_cache"
   ]
  },
  {
   "cell_type": "code",
   "execution_count": null,
   "metadata": {},
   "outputs": [],
   "source": [
    "requests_cache.install_cache(\"ddd\", allowable_methods=[\"GET\", \"POST\"])"
   ]
  },
  {
   "cell_type": "markdown",
   "metadata": {},
   "source": [
    "## Slides"
   ]
  },
  {
   "cell_type": "code",
   "execution_count": null,
   "metadata": {},
   "outputs": [],
   "source": [
    "class Slides(W.HTML):\n",
    "    \"\"\" some number of slides, as PDF\n",
    "    \"\"\"\n",
    "    pdf = T.Unicode()\n",
    "    \n",
    "    def __init__(self, *args, **kwargs):\n",
    "        if not kwargs.get(\"layout\"):\n",
    "            kwargs[\"layout\"] = dict(\n",
    "                display = \"flex\",\n",
    "                flex_flow = \"column wrap\",\n",
    "                flex = \"1\",\n",
    "                height = \"100%\",\n",
    "            )\n",
    "        super().__init__(*args, **kwargs)\n",
    "    \n",
    "    @T.observe(\"pdf\")\n",
    "    def _on_pdf(self, change):\n",
    "        self.value = f\"\"\"\n",
    "            <iframe \n",
    "                src=\"data:application/pdf;base64,{change.new}\" \n",
    "                style=\"border: 0; min-width: 400px; min-height: 400px; width: 100%; height: 100%;\">\n",
    "            </iframe>\n",
    "        \"\"\""
   ]
  },
  {
   "cell_type": "markdown",
   "metadata": {},
   "source": [
    "### DrawioSlides"
   ]
  },
  {
   "cell_type": "markdown",
   "metadata": {},
   "source": [
    "### Before we begin\n",
    "\n",
    "> ## This is **NOT READY** for prime-time\n",
    "> Start the **demo** export server. It will try to install its dependencies with `jlpm`, and requires `nodejs`.\n",
    "> ```bash\n",
    "> !python scripts/drawio_export_demo.py\n",
    "> ```"
   ]
  },
  {
   "cell_type": "code",
   "execution_count": null,
   "metadata": {},
   "outputs": [],
   "source": [
    "class DrawioSlides(Slides):\n",
    "    \"\"\" Slides built with drawio-export from drawio XML\n",
    "    \"\"\"\n",
    "    executor = ThreadPoolExecutor(max_workers=1)\n",
    "    \n",
    "    xml = T.Unicode()\n",
    "    params = T.Dict()\n",
    "    url = T.Unicode(default_value=\"http://localhost:8000\")\n",
    "    \n",
    "    CORE_PARAMS = dict(\n",
    "        format=\"pdf\",\n",
    "        base64=\"1\"\n",
    "    )\n",
    "    \n",
    "    @run_on_executor\n",
    "    def update_pdf(self):\n",
    "        # this really needs to be a queue\n",
    "        self.value = \"<blockquote>rendering...</blockqoute>\"\n",
    "        xml = self.transform(self.xml)\n",
    "        r = requests.post(\n",
    "            self.url, \n",
    "            timeout=None,\n",
    "            data=dict(\n",
    "                xml=xml, \n",
    "                **self.params, \n",
    "                **self.CORE_PARAMS\n",
    "            ))\n",
    "        self.pdf = r.text\n",
    "    \n",
    "    def transform(self, xml):\n",
    "        return xml\n",
    "\n",
    "    @T.observe(\"xml\")\n",
    "    def _on_xml(self, change=None):\n",
    "        tornado.ioloop.IOLoop.current().add_callback(self.update_pdf)"
   ]
  },
  {
   "cell_type": "code",
   "execution_count": null,
   "metadata": {},
   "outputs": [],
   "source": [
    "HOW_IT_WORKS = P.Path(\"testfiles/How it works.dio\")\n",
    "how_it_works = DrawioSlides(xml=HOW_IT_WORKS.read_text())\n",
    "how_it_works"
   ]
  },
  {
   "cell_type": "markdown",
   "metadata": {},
   "source": [
    "#### TemplatedDrawioSlides"
   ]
  },
  {
   "cell_type": "code",
   "execution_count": null,
   "metadata": {},
   "outputs": [],
   "source": [
    "class TemplatedDrawioSlides(DrawioSlides):\n",
    "    context = T.Dict()\n",
    "    \n",
    "    AMP = \"&\"\n",
    "    _AMP_ = \"_____AMP_____\"\n",
    "\n",
    "    def clean(self, txt):\n",
    "        return txt.replace(self.AMP, self._AMP_)\n",
    "\n",
    "    def smudge(self, txt):\n",
    "        return txt.replace(self._AMP_, self.AMP)\n",
    "    \n",
    "    def transform(self, xml):\n",
    "        env = jinja2.Environment(\n",
    "          extensions=['jinja2.ext.i18n', 'jinja2.ext.autoescape'],\n",
    "          autoescape=jinja2.select_autoescape(['html', 'xml'])\n",
    "        )\n",
    "\n",
    "        return self.smudge(env.from_string(self.clean(xml)).render(**{\n",
    "            key: self.markdown(value)\n",
    "            for key, value in (self.context or {}).items()\n",
    "        }))\n",
    "    \n",
    "    @T.observe(\"context\")\n",
    "    def _on_context(self, change):\n",
    "        self._on_xml()\n",
    "    \n",
    "    def markdown(self, md):\n",
    "        return markdown2html_mistune(md).replace(self.AMP, self._AMP_)"
   ]
  },
  {
   "cell_type": "code",
   "execution_count": null,
   "metadata": {},
   "outputs": [],
   "source": [
    "TEMPLATE = P.Path(\"testfiles/template deck.dio\") \n",
    "title = TemplatedDrawioSlides(xml=TEMPLATE.read_text(), context=dict(\n",
    "    hero=\"<h1>???</h1>\",\n",
    "    title=\"_No title here yet..._\"\n",
    "))\n",
    "title"
   ]
  },
  {
   "cell_type": "code",
   "execution_count": null,
   "metadata": {},
   "outputs": [],
   "source": [
    "logo = \"\"\"<img src=\"https://upload.wikimedia.org/wikipedia/commons/3/38/Jupyter_logo.svg\" width=\"200\" height=\"200\"></image>\"\"\""
   ]
  },
  {
   "cell_type": "code",
   "execution_count": null,
   "metadata": {},
   "outputs": [],
   "source": [
    "title.context = {\n",
    "    \"title\": \"The _title_ can contain `Markdown`\",\n",
    "    \"hero\": logo\n",
    "}"
   ]
  },
  {
   "cell_type": "code",
   "execution_count": null,
   "metadata": {},
   "outputs": [],
   "source": [
    "ideas = []\n",
    "for i in range(4):\n",
    "    ideas += [\n",
    "        TemplatedDrawioSlides(xml=TEMPLATE.read_text(), params=dict(math=\"0\"), context=dict(\n",
    "            title=f\"# Idea {i + 1}\",\n",
    "            abstract=f\"This is idea {i + 1}. It's better than [idea {i}](#idea-{i})\",\n",
    "            hero=(logo + \"\\n\\n\") * (1 + 1) \n",
    "        ))\n",
    "    ]"
   ]
  },
  {
   "cell_type": "markdown",
   "metadata": {},
   "source": [
    "## Deck"
   ]
  },
  {
   "cell_type": "markdown",
   "metadata": {},
   "source": [
    "### Deck MK1 Prototype\n",
    "\n",
    "The simplest deck prototype is just a box."
   ]
  },
  {
   "cell_type": "code",
   "execution_count": null,
   "metadata": {},
   "outputs": [],
   "source": [
    "deck = W.HBox([title, how_it_works, *ideas], \n",
    "              layout=dict(display=\"flex\", flex_flow=\"row wrap\"))\n",
    "# deck"
   ]
  },
  {
   "cell_type": "markdown",
   "metadata": {},
   "source": [
    "### Deck MK2 Prototype\n",
    "\n",
    "This builds a composite deck."
   ]
  },
  {
   "cell_type": "code",
   "execution_count": null,
   "metadata": {},
   "outputs": [],
   "source": [
    "class Deck(W.HBox):\n",
    "    composite = T.Unicode()\n",
    "    preview = T.Instance(Slides)\n",
    "    \n",
    "    def __init__(self, *args, **kwargs):\n",
    "        if \"layout\" not in kwargs:\n",
    "            kwargs[\"layout\"] = dict(display=\"flex\", flex_flow=\"row wrap\")\n",
    "        super().__init__(*args, **kwargs)\n",
    "    \n",
    "    @T.default(\"preview\")\n",
    "    def _default_preview(self):\n",
    "        slides = Slides()\n",
    "        T.dlink((self, \"composite\"), (slides, \"pdf\"))\n",
    "        self.update_composite()\n",
    "        return slides\n",
    "    \n",
    "    @T.observe(\"children\")\n",
    "    def _on_children(self, change):\n",
    "        self.update_composite()\n",
    "    \n",
    "    def update_composite(self):\n",
    "        tree = E.fromstring(\"\"\"<mxfile version=\"13.3.4\"></mxfile>\"\"\")\n",
    "        with tempfile.TemporaryDirectory() as td:\n",
    "            tdp = P.Path(td)\n",
    "            merger = PyPDF2.PdfFileMerger()\n",
    "            for i, child in enumerate(self.children):\n",
    "                next_pdf = (tdp / f\"doc-{i}.pdf\")\n",
    "                xml = E.fromstring(child.xml)\n",
    "                tag = tree.tag\n",
    "                if tag == \"mxfile\":\n",
    "                    [tree.append(d) for d in xml.xpath(\"//diagram\")]\n",
    "                elif tag == \"mxGraphModel\":\n",
    "                    d = E.Element(\"diagram\")\n",
    "                    d.append(xml)\n",
    "                    tree.append(d)\n",
    "                wrote = next_pdf.write_bytes(base64.b64decode(child.pdf.encode(\"utf-8\")))\n",
    "                if wrote:\n",
    "                    merger.append(PyPDF2.PdfFileReader(str(next_pdf)))\n",
    "            output_pdf = tdp / \"output.pdf\"\n",
    "            final_pdf = tdp / \"final.pdf\"\n",
    "            merger.write(str(output_pdf))\n",
    "            self.composite_xml = E.tostring(tree).decode(\"utf-8\")\n",
    "            final = PyPDF2.PdfFileWriter()\n",
    "            final.appendPagesFromReader(PyPDF2.PdfFileReader(str(output_pdf), \"rb\"))\n",
    "            final.addAttachment(\"drawing.drawio\", self.composite_xml.encode(\"utf-8\"))\n",
    "            with final_pdf.open(\"wb\") as fpt:\n",
    "                final.write(fpt)\n",
    "            self.composite = base64.b64encode(final_pdf.read_bytes()).decode(\"utf-8\")"
   ]
  },
  {
   "cell_type": "code",
   "execution_count": null,
   "metadata": {},
   "outputs": [],
   "source": [
    "new_deck = Deck(deck.children)"
   ]
  },
  {
   "cell_type": "code",
   "execution_count": null,
   "metadata": {},
   "outputs": [],
   "source": [
    "new_deck.preview"
   ]
  }
 ],
 "metadata": {
  "kernelspec": {
   "display_name": "Python 3",
   "language": "python",
   "name": "python3"
  },
  "language_info": {
   "codemirror_mode": {
    "name": "ipython",
    "version": 3
   },
   "file_extension": ".py",
   "mimetype": "text/x-python",
   "name": "python",
   "nbconvert_exporter": "python",
   "pygments_lexer": "ipython3",
   "version": "3.8.3"
  },
  "toc-autonumbering": true
 },
 "nbformat": 4,
 "nbformat_minor": 4
}
